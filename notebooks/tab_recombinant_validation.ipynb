{
 "cells": [
  {
   "cell_type": "markdown",
   "id": "dbf3e806-a02b-4131-ace2-5993c117410e",
   "metadata": {},
   "source": [
    "# Sc2ts recombinant validation by external methods\n"
   ]
  },
  {
   "cell_type": "code",
   "execution_count": 1,
   "id": "8d9565e9-b4e7-4358-8ef2-ed68f143aa1b",
   "metadata": {},
   "outputs": [],
   "source": [
    "import pandas as pd\n",
    "import numpy as np"
   ]
  },
  {
   "cell_type": "code",
   "execution_count": 2,
   "id": "9ceba31f-6989-4efe-98de-ce0085e1cf53",
   "metadata": {},
   "outputs": [],
   "source": [
    "df_recomb = pd.read_csv(\"../data/recombinants.csv\").set_index(\"sample_id\")\n"
   ]
  },
  {
   "cell_type": "code",
   "execution_count": 3,
   "id": "28d4610b-85ab-4d80-8e2f-5297104b882a",
   "metadata": {},
   "outputs": [],
   "source": [
    "# Add CovRecomb data\n",
    "df = pd.read_csv(\"../arg_postprocessing/sc2ts_v1_2023-02-21_pr_pp_mp_aph_bps_pango_dated_CovRecomb_output.csv\")\n",
    "df = df.set_index(\"sample_id\")\n",
    "\n",
    "df_recomb[\"is_cov_recomb_recombinant\"] = {sample_id: sample_id in df.index for sample_id in df_recomb.index}"
   ]
  },
  {
   "cell_type": "code",
   "execution_count": 4,
   "id": "d279b441-ee8e-46af-b718-a172161c0aed",
   "metadata": {},
   "outputs": [],
   "source": [
    "df = pd.read_csv(\"../arg_postprocessing/sc2ts_v1_2023-02-21_pr_pp_mp_aph_bps_pango_dated_3seq.csv\")\n",
    "# Just getting yes/no answer for now\n",
    "recombinants = df[\"recombinant\"].unique()\n",
    "df_recomb[\"is_3seq_recombinant\"] = {k: row[\"recombinant\"] in recombinants for k, row in df_recomb.iterrows()}\n"
   ]
  },
  {
   "cell_type": "code",
   "execution_count": 5,
   "id": "73e059c8-a106-4084-8be8-9ddb747543c7",
   "metadata": {},
   "outputs": [],
   "source": [
    "df_recomb[\"pass_qc\"] = df_recomb[\"net_min_supporting_loci_lft_rgt_ge_4\"]"
   ]
  },
  {
   "cell_type": "code",
   "execution_count": 6,
   "id": "cfe47787-e0ef-42f6-a67a-4d5a9448d97f",
   "metadata": {},
   "outputs": [
    {
     "data": {
      "text/html": [
       "<div>\n",
       "<style scoped>\n",
       "    .dataframe tbody tr th:only-of-type {\n",
       "        vertical-align: middle;\n",
       "    }\n",
       "\n",
       "    .dataframe tbody tr th {\n",
       "        vertical-align: top;\n",
       "    }\n",
       "\n",
       "    .dataframe thead th {\n",
       "        text-align: right;\n",
       "    }\n",
       "</style>\n",
       "<table border=\"1\" class=\"dataframe\">\n",
       "  <thead>\n",
       "    <tr style=\"text-align: right;\">\n",
       "      <th></th>\n",
       "      <th>pass_qc</th>\n",
       "      <th>is_3seq_recombinant</th>\n",
       "      <th>is_cov_recomb_recombinant</th>\n",
       "      <th>is_rebar_recombinant</th>\n",
       "    </tr>\n",
       "    <tr>\n",
       "      <th>sample_id</th>\n",
       "      <th></th>\n",
       "      <th></th>\n",
       "      <th></th>\n",
       "      <th></th>\n",
       "    </tr>\n",
       "  </thead>\n",
       "  <tbody>\n",
       "    <tr>\n",
       "      <th>ERR9939974</th>\n",
       "      <td>False</td>\n",
       "      <td>False</td>\n",
       "      <td>False</td>\n",
       "      <td>False</td>\n",
       "    </tr>\n",
       "    <tr>\n",
       "      <th>SRR20259474</th>\n",
       "      <td>False</td>\n",
       "      <td>True</td>\n",
       "      <td>False</td>\n",
       "      <td>False</td>\n",
       "    </tr>\n",
       "    <tr>\n",
       "      <th>ERR10219711</th>\n",
       "      <td>False</td>\n",
       "      <td>False</td>\n",
       "      <td>True</td>\n",
       "      <td>False</td>\n",
       "    </tr>\n",
       "    <tr>\n",
       "      <th>ERR9848224</th>\n",
       "      <td>False</td>\n",
       "      <td>False</td>\n",
       "      <td>False</td>\n",
       "      <td>False</td>\n",
       "    </tr>\n",
       "    <tr>\n",
       "      <th>ERR9940192</th>\n",
       "      <td>False</td>\n",
       "      <td>True</td>\n",
       "      <td>False</td>\n",
       "      <td>False</td>\n",
       "    </tr>\n",
       "    <tr>\n",
       "      <th>...</th>\n",
       "      <td>...</td>\n",
       "      <td>...</td>\n",
       "      <td>...</td>\n",
       "      <td>...</td>\n",
       "    </tr>\n",
       "    <tr>\n",
       "      <th>SRR21797337</th>\n",
       "      <td>False</td>\n",
       "      <td>True</td>\n",
       "      <td>False</td>\n",
       "      <td>False</td>\n",
       "    </tr>\n",
       "    <tr>\n",
       "      <th>SRR21794908</th>\n",
       "      <td>False</td>\n",
       "      <td>True</td>\n",
       "      <td>False</td>\n",
       "      <td>False</td>\n",
       "    </tr>\n",
       "    <tr>\n",
       "      <th>ERR10708209</th>\n",
       "      <td>False</td>\n",
       "      <td>True</td>\n",
       "      <td>False</td>\n",
       "      <td>False</td>\n",
       "    </tr>\n",
       "    <tr>\n",
       "      <th>ERR10933490</th>\n",
       "      <td>False</td>\n",
       "      <td>True</td>\n",
       "      <td>False</td>\n",
       "      <td>True</td>\n",
       "    </tr>\n",
       "    <tr>\n",
       "      <th>SRR18234565</th>\n",
       "      <td>False</td>\n",
       "      <td>True</td>\n",
       "      <td>False</td>\n",
       "      <td>False</td>\n",
       "    </tr>\n",
       "  </tbody>\n",
       "</table>\n",
       "<p>855 rows × 4 columns</p>\n",
       "</div>"
      ],
      "text/plain": [
       "             pass_qc  is_3seq_recombinant  is_cov_recomb_recombinant  \\\n",
       "sample_id                                                              \n",
       "ERR9939974     False                False                      False   \n",
       "SRR20259474    False                 True                      False   \n",
       "ERR10219711    False                False                       True   \n",
       "ERR9848224     False                False                      False   \n",
       "ERR9940192     False                 True                      False   \n",
       "...              ...                  ...                        ...   \n",
       "SRR21797337    False                 True                      False   \n",
       "SRR21794908    False                 True                      False   \n",
       "ERR10708209    False                 True                      False   \n",
       "ERR10933490    False                 True                      False   \n",
       "SRR18234565    False                 True                      False   \n",
       "\n",
       "             is_rebar_recombinant  \n",
       "sample_id                          \n",
       "ERR9939974                  False  \n",
       "SRR20259474                 False  \n",
       "ERR10219711                 False  \n",
       "ERR9848224                  False  \n",
       "ERR9940192                  False  \n",
       "...                           ...  \n",
       "SRR21797337                 False  \n",
       "SRR21794908                 False  \n",
       "ERR10708209                 False  \n",
       "ERR10933490                  True  \n",
       "SRR18234565                 False  \n",
       "\n",
       "[855 rows x 4 columns]"
      ]
     },
     "execution_count": 6,
     "metadata": {},
     "output_type": "execute_result"
    }
   ],
   "source": [
    "df_summary = df_recomb[[\"pass_qc\", \"is_3seq_recombinant\", \"is_cov_recomb_recombinant\", \"is_rebar_recombinant\"]]\n",
    "df_summary"
   ]
  },
  {
   "cell_type": "code",
   "execution_count": 7,
   "id": "2d7c6016-4499-4f82-8411-a43eb44c5fb3",
   "metadata": {
    "scrolled": true
   },
   "outputs": [
    {
     "data": {
      "text/html": [
       "<div>\n",
       "<style scoped>\n",
       "    .dataframe tbody tr th:only-of-type {\n",
       "        vertical-align: middle;\n",
       "    }\n",
       "\n",
       "    .dataframe tbody tr th {\n",
       "        vertical-align: top;\n",
       "    }\n",
       "\n",
       "    .dataframe thead th {\n",
       "        text-align: right;\n",
       "    }\n",
       "</style>\n",
       "<table border=\"1\" class=\"dataframe\">\n",
       "  <thead>\n",
       "    <tr style=\"text-align: right;\">\n",
       "      <th></th>\n",
       "      <th>is_3seq_recombinant</th>\n",
       "      <th>is_cov_recomb_recombinant</th>\n",
       "      <th>is_rebar_recombinant</th>\n",
       "    </tr>\n",
       "    <tr>\n",
       "      <th>pass_qc</th>\n",
       "      <th></th>\n",
       "      <th></th>\n",
       "      <th></th>\n",
       "    </tr>\n",
       "  </thead>\n",
       "  <tbody>\n",
       "    <tr>\n",
       "      <th>False</th>\n",
       "      <td>146</td>\n",
       "      <td>2</td>\n",
       "      <td>10</td>\n",
       "    </tr>\n",
       "    <tr>\n",
       "      <th>True</th>\n",
       "      <td>338</td>\n",
       "      <td>90</td>\n",
       "      <td>203</td>\n",
       "    </tr>\n",
       "  </tbody>\n",
       "</table>\n",
       "</div>"
      ],
      "text/plain": [
       "         is_3seq_recombinant  is_cov_recomb_recombinant  is_rebar_recombinant\n",
       "pass_qc                                                                      \n",
       "False                    146                          2                    10\n",
       "True                     338                         90                   203"
      ]
     },
     "execution_count": 7,
     "metadata": {},
     "output_type": "execute_result"
    }
   ],
   "source": [
    "totals = df_summary.groupby(\"pass_qc\").sum()\n",
    "totals"
   ]
  },
  {
   "cell_type": "code",
   "execution_count": 8,
   "id": "d751014b-3056-4834-a977-bd8b6238103d",
   "metadata": {},
   "outputs": [
    {
     "data": {
      "text/plain": [
       "pass_qc\n",
       "False    501\n",
       "True     354\n",
       "Name: count, dtype: int64"
      ]
     },
     "execution_count": 8,
     "metadata": {},
     "output_type": "execute_result"
    }
   ],
   "source": [
    "denom = df_summary[\"pass_qc\"].value_counts()\n",
    "denom"
   ]
  },
  {
   "cell_type": "code",
   "execution_count": 9,
   "id": "77cd3b2d-8305-4770-88ea-95de19d50ae5",
   "metadata": {
    "scrolled": true
   },
   "outputs": [
    {
     "data": {
      "text/html": [
       "<div>\n",
       "<style scoped>\n",
       "    .dataframe tbody tr th:only-of-type {\n",
       "        vertical-align: middle;\n",
       "    }\n",
       "\n",
       "    .dataframe tbody tr th {\n",
       "        vertical-align: top;\n",
       "    }\n",
       "\n",
       "    .dataframe thead th {\n",
       "        text-align: right;\n",
       "    }\n",
       "</style>\n",
       "<table border=\"1\" class=\"dataframe\">\n",
       "  <thead>\n",
       "    <tr style=\"text-align: right;\">\n",
       "      <th></th>\n",
       "      <th>is_3seq_recombinant</th>\n",
       "      <th>is_cov_recomb_recombinant</th>\n",
       "      <th>is_rebar_recombinant</th>\n",
       "      <th>rebar_pc</th>\n",
       "      <th>3seq_pc</th>\n",
       "      <th>cov_recomb_pc</th>\n",
       "    </tr>\n",
       "    <tr>\n",
       "      <th>pass_qc</th>\n",
       "      <th></th>\n",
       "      <th></th>\n",
       "      <th></th>\n",
       "      <th></th>\n",
       "      <th></th>\n",
       "      <th></th>\n",
       "    </tr>\n",
       "  </thead>\n",
       "  <tbody>\n",
       "    <tr>\n",
       "      <th>False</th>\n",
       "      <td>146</td>\n",
       "      <td>2</td>\n",
       "      <td>10</td>\n",
       "      <td>2.0</td>\n",
       "      <td>29.0</td>\n",
       "      <td>0.0</td>\n",
       "    </tr>\n",
       "    <tr>\n",
       "      <th>True</th>\n",
       "      <td>338</td>\n",
       "      <td>90</td>\n",
       "      <td>203</td>\n",
       "      <td>57.0</td>\n",
       "      <td>95.0</td>\n",
       "      <td>25.0</td>\n",
       "    </tr>\n",
       "  </tbody>\n",
       "</table>\n",
       "</div>"
      ],
      "text/plain": [
       "         is_3seq_recombinant  is_cov_recomb_recombinant  is_rebar_recombinant  \\\n",
       "pass_qc                                                                         \n",
       "False                    146                          2                    10   \n",
       "True                     338                         90                   203   \n",
       "\n",
       "         rebar_pc  3seq_pc  cov_recomb_pc  \n",
       "pass_qc                                    \n",
       "False         2.0     29.0            0.0  \n",
       "True         57.0     95.0           25.0  "
      ]
     },
     "execution_count": 9,
     "metadata": {},
     "output_type": "execute_result"
    }
   ],
   "source": [
    "totals[\"rebar_pc\"] = np.round(100 * totals['is_rebar_recombinant'] / denom)\n",
    "totals[\"3seq_pc\"] = np.round(100 * totals[\"is_3seq_recombinant\"] / denom)\n",
    "totals[\"cov_recomb_pc\"] = np.round(100 * totals[\"is_cov_recomb_recombinant\"] / denom)\n",
    "totals"
   ]
  },
  {
   "cell_type": "code",
   "execution_count": 10,
   "id": "6e36d878-b95d-491c-843a-87a4e3822a6e",
   "metadata": {
    "scrolled": true
   },
   "outputs": [
    {
     "data": {
      "text/plain": [
       "np.int64(484)"
      ]
     },
     "execution_count": 10,
     "metadata": {},
     "output_type": "execute_result"
    }
   ],
   "source": [
    "np.sum(df_recomb[\"is_3seq_recombinant\"])"
   ]
  },
  {
   "cell_type": "code",
   "execution_count": 13,
   "id": "cdf957e0-25eb-4074-8fb7-42e723e3c6f5",
   "metadata": {
    "scrolled": true
   },
   "outputs": [
    {
     "data": {
      "text/plain": [
       "np.float64(57.0)"
      ]
     },
     "execution_count": 13,
     "metadata": {},
     "output_type": "execute_result"
    }
   ],
   "source": [
    "np.round(100 * np.sum(df_recomb[\"is_3seq_recombinant\"]) / df_recomb.shape[0])"
   ]
  },
  {
   "cell_type": "code",
   "execution_count": 12,
   "id": "7c645419-1acd-46f4-b8e5-1f3d91cccf21",
   "metadata": {},
   "outputs": [
    {
     "data": {
      "text/plain": [
       "is_3seq_recombinant          484.0\n",
       "is_cov_recomb_recombinant     92.0\n",
       "is_rebar_recombinant         213.0\n",
       "rebar_pc                      59.0\n",
       "3seq_pc                      124.0\n",
       "cov_recomb_pc                 25.0\n",
       "dtype: float64"
      ]
     },
     "execution_count": 12,
     "metadata": {},
     "output_type": "execute_result"
    }
   ],
   "source": [
    "totals.sum()"
   ]
  }
 ],
 "metadata": {
  "kernelspec": {
   "display_name": "Python 3 (ipykernel)",
   "language": "python",
   "name": "python3"
  },
  "language_info": {
   "codemirror_mode": {
    "name": "ipython",
    "version": 3
   },
   "file_extension": ".py",
   "mimetype": "text/x-python",
   "name": "python",
   "nbconvert_exporter": "python",
   "pygments_lexer": "ipython3",
   "version": "3.10.12"
  }
 },
 "nbformat": 4,
 "nbformat_minor": 5
}
